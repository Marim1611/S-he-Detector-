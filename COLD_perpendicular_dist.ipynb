{
 "cells": [
  {
   "cell_type": "code",
   "execution_count": 2,
   "metadata": {},
   "outputs": [],
   "source": [
    "## imports\n",
    "import pandas as pd\n",
    "import numpy as np\n",
    "from scipy.optimize import minimize ## if not installed, use conda install -c anaconda scipy\n",
    "import matplotlib.pyplot as plt\n",
    "from fractions import Fraction\n",
    "import scipy.io \n",
    "import math"
   ]
  },
  {
   "cell_type": "code",
   "execution_count": 7,
   "metadata": {},
   "outputs": [
    {
     "name": "stdout",
     "output_type": "stream",
     "text": [
      "(-1, 1, -1)\n"
     ]
    }
   ],
   "source": [
    "# y = mx + c\n",
    "# ax + by +c = 0\n",
    "#get a,b,c for the reference line from the pca points \n",
    "def reference_axis(arr):\n",
    "    m = Fraction(arr[1,1]-arr[0,1],arr[1,0]-arr[0,0])\n",
    "    m.denominator\n",
    "    c = -(arr[0,1]*m.denominator - m.numerator*arr[0,0])\n",
    "    a = -(m.numerator)\n",
    "    b = m.denominator\n",
    "    return a,b,c\n",
    "\n",
    "#test\n",
    "print(reference_axis(np.array([[0,1],[1,2],[2,3]])))\n"
   ]
  },
  {
   "cell_type": "code",
   "execution_count": null,
   "metadata": {},
   "outputs": [],
   "source": []
  }
 ],
 "metadata": {
  "interpreter": {
   "hash": "0e049ab641eb5d5e510704e410ce561621077459256bdfbe8ae3f5ba865a985f"
  },
  "kernelspec": {
   "display_name": "Python 3.8.8 ('base')",
   "language": "python",
   "name": "python3"
  },
  "language_info": {
   "codemirror_mode": {
    "name": "ipython",
    "version": 3
   },
   "file_extension": ".py",
   "mimetype": "text/x-python",
   "name": "python",
   "nbconvert_exporter": "python",
   "pygments_lexer": "ipython3",
   "version": "3.8.8"
  },
  "orig_nbformat": 4
 },
 "nbformat": 4,
 "nbformat_minor": 2
}
