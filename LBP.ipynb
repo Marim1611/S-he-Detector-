{
 "cells": [
  {
   "cell_type": "code",
   "execution_count": 7,
   "metadata": {},
   "outputs": [],
   "source": [
    "#from ipynb.fs.full.preprocessing import LPF\n",
    "import numpy as np\n"
   ]
  },
  {
   "cell_type": "code",
   "execution_count": 8,
   "metadata": {},
   "outputs": [],
   "source": [
    "def getBinaryBit(pixel,neighbors):    \n",
    "    if pixel < neighbors:\n",
    "         return 0\n",
    "    else:\n",
    "        return 1  "
   ]
  },
  {
   "cell_type": "code",
   "execution_count": 9,
   "metadata": {},
   "outputs": [],
   "source": [
    "def binaryToDecimal(BP):\n",
    "    # 8 values as we have 8 neighbors\n",
    "    powers_of_two = [1, 2, 4, 8, 16, 32, 64, 128]\n",
    "    decimal_value = 0\n",
    "    for i in range(len(BP)):\n",
    "        decimal_value += BP[i] * powers_of_two[i]\n",
    "    return decimal_value"
   ]
  },
  {
   "cell_type": "code",
   "execution_count": 13,
   "metadata": {},
   "outputs": [],
   "source": [
    "#    \n",
    "        #  j\n",
    "        #  |\n",
    "        #  |______ i\n",
    "        #\n",
    "        # | top left    |  top    | top right    |\n",
    "        # | left        |  pixel  |  right       |\n",
    "        # |bottom left  | bottom  | bottom right |\n",
    "        #\n",
    "def LBP(img):\n",
    "    height=img.shape[0]\n",
    "    width=img.shape[1]\n",
    "    print(width)\n",
    "    BP=[]  # binary pattern\n",
    "    LBP_Img = np.zeros((height, width),np.uint8) # new img with LBP values\n",
    "    for i in range (0 ,height):\n",
    "        for j in range (0 ,width):\n",
    "            #boundaries:\n",
    "            if i == 0 or j == 0 or ( i == 0 and j == 0 ):\n",
    "                continue\n",
    "            if j == width-1 or i == height-1 or ( j == width-1 and i == height-1 ):\n",
    "                continue\n",
    "            #clockwise neighbors\n",
    "            #top left\n",
    "            BP.append(getBinaryBit(img[i][j],img[i-1][j-1]))\n",
    "            #top\n",
    "            BP.append(getBinaryBit(img[i][j],img[i-1][j]))\n",
    "            #top left\n",
    "            BP.append(getBinaryBit(img[i][j],img[i-1][j+1]))\n",
    "            #right\n",
    "            BP.append(getBinaryBit(img[i][j],img[i][j+1]))\n",
    "            #bottom right\n",
    "            BP.append(getBinaryBit(img[i][j],img[i+1][j+1]))\n",
    "            #bottom\n",
    "            BP.append(getBinaryBit(img[i][j],img[i+1][j]))\n",
    "            #bottom left\n",
    "            BP.append(getBinaryBit(img[i][j],img[i+1][j-1]))\n",
    "            #left\n",
    "            BP.append(getBinaryBit(img[i][j],img[i][j-1]))\n",
    "            #put value of the pixel as the decimal number of the binary pattern\n",
    "            LBP_Img[i][j]=binaryToDecimal(BP)\n",
    "            BP=[] # reset the binary pattern vector\n",
    "    return LBP_Img"
   ]
  }
 ],
 "metadata": {
  "interpreter": {
   "hash": "f3a52463084db90f96d29dcfcfd9bf276dba3c521d76c4c38c835392b64a093b"
  },
  "kernelspec": {
   "display_name": "Python 3.8.8 ('base')",
   "language": "python",
   "name": "python3"
  },
  "language_info": {
   "codemirror_mode": {
    "name": "ipython",
    "version": 3
   },
   "file_extension": ".py",
   "mimetype": "text/x-python",
   "name": "python",
   "nbconvert_exporter": "python",
   "pygments_lexer": "ipython3",
   "version": "3.8.8"
  },
  "orig_nbformat": 4
 },
 "nbformat": 4,
 "nbformat_minor": 2
}
