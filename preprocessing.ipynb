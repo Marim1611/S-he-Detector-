{
 "cells": [
  {
   "cell_type": "code",
   "execution_count": 102,
   "metadata": {},
   "outputs": [],
   "source": [
    "import cv2\n",
    "import numpy as np\n",
    "import os\n",
    "from sklearn.model_selection import train_test_split\n",
    "import shutil\n",
    "import glob\n"
   ]
  },
  {
   "cell_type": "markdown",
   "metadata": {},
   "source": [
    "# Get data from icdar \n",
    "80% training and 20% test"
   ]
  },
  {
   "cell_type": "code",
   "execution_count": 103,
   "metadata": {},
   "outputs": [],
   "source": [
    "def dividing_data():\n",
    "    \n",
    "  files = os.listdir(\"our dataset/icdar_data/\")\n",
    "  X=[]\n",
    "  for file in files:\n",
    "    X.append(\"our dataset/icdar_data/\"+file)\n",
    "\n",
    "  train, test = train_test_split(X, test_size=0.2) \n",
    "\n",
    "  # delete all imgs in folder to replace it with a new data\n",
    "  for i in os.listdir(\"our dataset/train_icdar/\"):\n",
    "    os.remove(\"our dataset/train_icdar/\"+i)\n",
    "  \n",
    "  for i in os.listdir(\"our dataset/test_icdar/\"):\n",
    "    os.remove(\"our dataset/test_icdar/\"+i)\n",
    "  \n",
    "    \n",
    "  # save imgs to train and test folders \n",
    "  dst_dir = \"our dataset/train_icdar/\"\n",
    "  for src_dir in train:\n",
    "    for img in glob.iglob(src_dir):\n",
    "        shutil.copy(img, dst_dir)\n",
    "  \n",
    "  dst_dir = \"our dataset/test_icdar/\"\n",
    "  for src_dir in test:\n",
    "    for img in glob.iglob(src_dir):\n",
    "        shutil.copy(img, dst_dir)\n",
    "  "
   ]
  },
  {
   "cell_type": "code",
   "execution_count": 104,
   "metadata": {},
   "outputs": [],
   "source": [
    "def cropTxtOnly(image):\n",
    "    img = image[30:-450,20:-20] # Perform pre-cropping\n",
    "\n",
    "    gray = cv2.cvtColor(img, cv2.COLOR_BGR2GRAY)\n",
    "    # gray = 255*(gray < 90).astype(np.uint8) # To invert the text to white\n",
    "\n",
    "    gray = 255*(gray < 160).astype(np.uint8) # To invert the text to white\n",
    "\n",
    "    gray = cv2.morphologyEx(gray, cv2.MORPH_OPEN, np.ones((2, 2), dtype=np.uint8)) # Perform noise filtering\n",
    "\n",
    "    coords = cv2.findNonZero(gray) # Find all non-zero points (text)\n",
    "    x, y, w, h = cv2.boundingRect(coords) # Find minimum spanning bounding box\n",
    "    rect = img[y:y+h, x:x+w] # Crop the image - note we do this on the original image\n",
    "\n",
    "    return rect\n"
   ]
  },
  {
   "cell_type": "code",
   "execution_count": 112,
   "metadata": {},
   "outputs": [],
   "source": [
    "\n",
    "def preprocessing(dataSrc,dataDest, target,icdar_or_dataset):\n",
    "    \n",
    "    files=[]\n",
    "    genders=[]\n",
    "\n",
    "    if icdar_or_dataset==1: #our dataset \n",
    "        genders=[\"/Female\", \"/Male\"]\n",
    "    else: \n",
    "        genders=[\"\"]\n",
    "\n",
    "    for gender in genders:\n",
    "        files=os.listdir(\"our dataset/\"+dataSrc+gender)\n",
    " \n",
    "        for file in files:\n",
    "\n",
    "            foldername=file.split('.')[0]\n",
    "            if not os.path.exists(\"preprocessed/\"+dataDest+gender+'/'+foldername):\n",
    "                os.makedirs(\"preprocessed/\"+dataDest+gender+'/'+foldername)\n",
    "\n",
    "            if not os.path.exists(target):\n",
    "                os.makedirs(target)\n",
    "\n",
    "            # load image\n",
    "            img = cv2.imread(\"our dataset/\"+dataSrc + gender + \"/\" + file )\n",
    "            #crop the text only from the image\n",
    "            cropped_img=cropTxtOnly(img)\n",
    "            \n",
    "            if icdar_or_dataset==1:\n",
    "                cv2.imwrite(\"preprocessed/\"+dataDest+gender+'/'+foldername+'/'+\"cropped.png\", cropped_img) # Save the image\n",
    "\n",
    "            # convert to gray\n",
    "            gray = cv2.cvtColor(cropped_img, cv2.COLOR_BGR2GRAY)\n",
    "\n",
    "            # threshold the grayscale image\n",
    "            thresh = cv2.threshold(gray, 0, 255, cv2.THRESH_BINARY_INV + cv2.THRESH_OTSU)[1]\n",
    "\n",
    "            # use morphology erode to blur horizontally\n",
    "            kernel = cv2.getStructuringElement(cv2.MORPH_RECT, (200, 3))\n",
    "            morph = cv2.morphologyEx(thresh, cv2.MORPH_DILATE, kernel)\n",
    "\n",
    "            # use morphology open to remove thin lines from dotted lines\n",
    "            kernel = cv2.getStructuringElement(cv2.MORPH_RECT, (3, 17))\n",
    "            morph = cv2.morphologyEx(morph, cv2.MORPH_OPEN, kernel)\n",
    "\n",
    "            # find contours\n",
    "            cntrs = cv2.findContours(morph, cv2.RETR_EXTERNAL, cv2.CHAIN_APPROX_SIMPLE)\n",
    "            cntrs = cntrs[0] if len(cntrs) == 2 else cntrs[1]\n",
    "\n",
    "            # if icdar_or_dataset==1:\n",
    "            #     i=0\n",
    "            #     thresh_result = thresh.copy()\n",
    "            #     for c in cntrs:\n",
    "            #         box = cv2.boundingRect(c)\n",
    "            #         x,y,w,h = box\n",
    "            #         cv2.imwrite(\"preprocessed/\"+dataDest+gender+'/'+foldername + \"/\" + foldername + \"-\"+str(i)+\".jpg\", thresh_result[ y:y+h , x:x+w ] )\n",
    "            #         i+=1\n",
    "\n",
    "            # write result to disk\n",
    "            cv2.imwrite(target+foldername+\".jpg\", thresh)\n",
    "\n"
   ]
  },
  {
   "cell_type": "markdown",
   "metadata": {},
   "source": [
    "# Preprocessing training data"
   ]
  },
  {
   "cell_type": "code",
   "execution_count": 106,
   "metadata": {},
   "outputs": [],
   "source": [
    "preprocessing(\"train\",\"train\",\"Training_data/\",1)"
   ]
  },
  {
   "cell_type": "markdown",
   "metadata": {},
   "source": [
    "# Preprocessing test data"
   ]
  },
  {
   "cell_type": "code",
   "execution_count": 113,
   "metadata": {},
   "outputs": [],
   "source": [
    "preprocessing(\"test\",\"test\",\"Test_data/\",1)"
   ]
  },
  {
   "cell_type": "markdown",
   "metadata": {},
   "source": [
    "# Icdar data"
   ]
  },
  {
   "cell_type": "code",
   "execution_count": 108,
   "metadata": {},
   "outputs": [],
   "source": [
    "dividing_data() #80% train and 20% test"
   ]
  },
  {
   "cell_type": "code",
   "execution_count": 110,
   "metadata": {},
   "outputs": [],
   "source": [
    "preprocessing(\"test_icdar\",\"test_icdar\",\"Test_data/\",0)\n",
    "preprocessing(\"train_icdar\",\"train_icdar\",\"Training_data/\",0)"
   ]
  }
 ],
 "metadata": {
  "interpreter": {
   "hash": "a2ab3825ac7005fb7b26f112e9c99ae62f464c629e30b0d534c3b931b6cbc3ff"
  },
  "kernelspec": {
   "display_name": "Python 3.8.8 ('base')",
   "language": "python",
   "name": "python3"
  },
  "language_info": {
   "codemirror_mode": {
    "name": "ipython",
    "version": 3
   },
   "file_extension": ".py",
   "mimetype": "text/x-python",
   "name": "python",
   "nbconvert_exporter": "python",
   "pygments_lexer": "ipython3",
   "version": "3.8.8"
  },
  "orig_nbformat": 4
 },
 "nbformat": 4,
 "nbformat_minor": 2
}
