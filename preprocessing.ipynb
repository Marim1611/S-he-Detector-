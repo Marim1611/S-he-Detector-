{
 "cells": [
  {
   "cell_type": "code",
   "execution_count": 1,
   "metadata": {},
   "outputs": [],
   "source": [
    "import cv2\n",
    "import numpy as np\n",
    "import os\n",
    "from sklearn.model_selection import train_test_split\n",
    "import shutil\n",
    "import glob"
   ]
  },
  {
   "cell_type": "markdown",
   "metadata": {},
   "source": [
    "# Get data from icdar \n",
    "80% training and 20% test"
   ]
  },
  {
   "cell_type": "code",
   "execution_count": 42,
   "metadata": {},
   "outputs": [],
   "source": [
    "def dividing_data():\n",
    "    \n",
    "  files = os.listdir(\"our dataset/data/\")\n",
    "  X=[]\n",
    "  for file in files:\n",
    "    X.append(\"our dataset/data/\"+file)\n",
    "\n",
    "  train, test = train_test_split(X, test_size=0.2) \n",
    "\n",
    " \n",
    "  for i in os.listdir(\"our dataset/train/\"):\n",
    "    img= \"our dataset/train/\"+i\n",
    "    if i[0]=='F' or i[0]=='M':\n",
    "      os.remove(img)\n",
    "  \n",
    "  for i in os.listdir(\"our dataset/validation_test/\"):\n",
    "    img= \"our dataset/test/\"+i\n",
    "    if i[0]=='F' or i[0]=='M':\n",
    "      os.remove(\"our dataset/validation_test/\"+i)\n",
    "\n",
    "    \n",
    "  # save imgs to train and test folders \n",
    "  dst_dir = \"our dataset/train/\"\n",
    "  for src_dir in train:\n",
    "    for img in glob.iglob(src_dir):\n",
    "        shutil.copy(img, dst_dir)\n",
    "  \n",
    "  dst_dir = \"our dataset/validation_test/\"\n",
    "  for src_dir in test:\n",
    "    for img in glob.iglob(src_dir):\n",
    "        shutil.copy(img, dst_dir)\n",
    "  "
   ]
  },
  {
   "cell_type": "code",
   "execution_count": 16,
   "metadata": {},
   "outputs": [],
   "source": [
    "def cropTxtOnly(img,dataSrc):\n",
    "    \n",
    "    img = img[30:-450,10:-10] # Perform pre-cropping\n",
    "    gray = cv2.cvtColor(img, cv2.COLOR_BGR2GRAY)\n",
    "    \n",
    "    if(dataSrc == \"our dataset/train/\"):\n",
    "        gray = 255*(gray < 200).astype(np.uint8) # To invert the text to white\n",
    "\n",
    "        gray = cv2.morphologyEx(gray, cv2.MORPH_OPEN, np.ones((2, 2), dtype=np.uint8)) # Perform noise filtering\n",
    "\n",
    "        coords = cv2.findNonZero(gray) # Find all non-zero points (text)\n",
    "        x, y, w, h = cv2.boundingRect(coords) # Find minimum spanning bounding box\n",
    "        rect = img[y:y+h, x:x+w] # Crop the original image\n",
    " \n",
    "        return rect\n",
    "    else :\n",
    "        for i in range(90,1000,10):\n",
    "\n",
    "            gray = 255*(gray < i).astype(np.uint8) # To invert the text to white\n",
    "\n",
    "            gray = cv2.morphologyEx(gray, cv2.MORPH_OPEN, np.ones((2, 2), dtype=np.uint8)) # Perform noise filtering\n",
    "\n",
    "            coords = cv2.findNonZero(gray) # Find all non-zero points (text)\n",
    "            x, y, w, h = cv2.boundingRect(coords) # Find minimum spanning bounding box\n",
    "            rect = img[y:y+h, x:x+w] # Crop the original image\n",
    "\n",
    "            if (rect.size > 10000): \n",
    "                return rect\n",
    "            \n",
    "    return None\n",
    "    \n"
   ]
  },
  {
   "cell_type": "code",
   "execution_count": 19,
   "metadata": {},
   "outputs": [],
   "source": [
    "\n",
    "def preprocessing(dataSrc, target):\n",
    "    \n",
    "    files=os.listdir(dataSrc)\n",
    "    \n",
    "\n",
    "    if not os.path.exists(target):\n",
    "          os.makedirs(target)\n",
    "      \n",
    "    for i in os.listdir(target):\n",
    "          os.remove(target+i)\n",
    "          \n",
    "    for file in files:\n",
    "        foldername=file.split('.')[0]\n",
    "\n",
    "        # load image\n",
    "        img = cv2.imread(dataSrc+ file )\n",
    "        #crop the text only from the image\n",
    "\n",
    "        cropped_img=cropTxtOnly(img,dataSrc)\n",
    "\n",
    "        # convert to gray\n",
    "        gray = cv2.cvtColor(cropped_img, cv2.COLOR_BGR2GRAY)\n",
    "            \n",
    "        # threshold the grayscale image\n",
    "        thresh = cv2.threshold(gray, 0, 255, cv2.THRESH_BINARY_INV + cv2.THRESH_OTSU)[1]\n",
    "\n",
    "        # write result to disk\n",
    "        cv2.imwrite(target+foldername+\".jpg\", thresh)\n",
    "\n",
    "        # use morphology erode to blur horizontally\n",
    "        kernel = cv2.getStructuringElement(cv2.MORPH_RECT, (200, 3))\n",
    "        morph = cv2.morphologyEx(thresh, cv2.MORPH_DILATE, kernel)\n",
    "        # use morphology open to remove thin lines from dotted lines\n",
    "        kernel = cv2.getStructuringElement(cv2.MORPH_RECT, (3, 17))\n",
    "        morph = cv2.morphologyEx(morph, cv2.MORPH_OPEN, kernel)\n",
    "        # find contours\n",
    "        cntrs = cv2.findContours(morph, cv2.RETR_EXTERNAL, cv2.CHAIN_APPROX_SIMPLE)\n",
    "        cntrs = cntrs[0] if len(cntrs) == 2 else cntrs[1]\n",
    "        "
   ]
  },
  {
   "cell_type": "markdown",
   "metadata": {},
   "source": [
    "# Preprocessing data"
   ]
  },
  {
   "cell_type": "code",
   "execution_count": 44,
   "metadata": {},
   "outputs": [],
   "source": [
    "dividing_data() #80% train and 20% test"
   ]
  },
  {
   "cell_type": "code",
   "execution_count": 20,
   "metadata": {},
   "outputs": [],
   "source": [
    "preprocessing(dataSrc=\"our dataset/train/\",target=\"Training_data/\")"
   ]
  },
  {
   "cell_type": "code",
   "execution_count": null,
   "metadata": {},
   "outputs": [],
   "source": [
    "preprocessing(dataSrc=\"our dataset/validation_test/\",target=\"ValidationTest_data/\")"
   ]
  },
  {
   "cell_type": "code",
   "execution_count": 9,
   "metadata": {},
   "outputs": [],
   "source": [
    "preprocessing(dataSrc=\"our dataset/test/\",target=\"Test_data/\")"
   ]
  }
 ],
 "metadata": {
  "interpreter": {
   "hash": "a2ab3825ac7005fb7b26f112e9c99ae62f464c629e30b0d534c3b931b6cbc3ff"
  },
  "kernelspec": {
   "display_name": "Python 3.8.8 ('base')",
   "language": "python",
   "name": "python3"
  },
  "language_info": {
   "codemirror_mode": {
    "name": "ipython",
    "version": 3
   },
   "file_extension": ".py",
   "mimetype": "text/x-python",
   "name": "python",
   "nbconvert_exporter": "python",
   "pygments_lexer": "ipython3",
   "version": "3.8.8"
  },
  "orig_nbformat": 4
 },
 "nbformat": 4,
 "nbformat_minor": 2
}
