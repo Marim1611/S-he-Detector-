{
 "cells": [
  {
   "cell_type": "code",
   "execution_count": 2,
   "metadata": {},
   "outputs": [],
   "source": [
    "import cv2\n",
    "import numpy as np\n",
    "import os\n",
    "from sklearn.model_selection import train_test_split\n",
    "import shutil\n",
    "import glob\n"
   ]
  },
  {
   "cell_type": "markdown",
   "metadata": {},
   "source": [
    "# Get data from icdar \n",
    "80% training and 20% test"
   ]
  },
  {
   "cell_type": "code",
   "execution_count": 5,
   "metadata": {},
   "outputs": [],
   "source": [
    "def dividing_data():\n",
    "    \n",
    "  files = os.listdir(\"our dataset/data/\")\n",
    "  X=[]\n",
    "  for file in files:\n",
    "    X.append(\"our dataset/data/\"+file)\n",
    "\n",
    "  train, test = train_test_split(X, test_size=0.2) \n",
    "\n",
    "  # delete all imgs in folder to replace it with a new data\n",
    "  if not os.path.exists(\"our dataset/train/\"):\n",
    "       os.makedirs(\"our dataset/train\")\n",
    "  \n",
    "  if not os.path.exists(\"our dataset/test/\"):\n",
    "       os.makedirs(\"our dataset/test\")\n",
    "\n",
    "  for i in os.listdir(\"our dataset/train/\"):\n",
    "    os.remove(\"our dataset/train/\"+i)\n",
    "  \n",
    "  for i in os.listdir(\"our dataset/test/\"):\n",
    "    os.remove(\"our dataset/test/\"+i)\n",
    "\n",
    "    \n",
    "  # save imgs to train and test folders \n",
    "  dst_dir = \"our dataset/train/\"\n",
    "  for src_dir in train:\n",
    "    for img in glob.iglob(src_dir):\n",
    "        shutil.copy(img, dst_dir)\n",
    "  \n",
    "  dst_dir = \"our dataset/test/\"\n",
    "  for src_dir in test:\n",
    "    for img in glob.iglob(src_dir):\n",
    "        shutil.copy(img, dst_dir)\n",
    "  "
   ]
  },
  {
   "cell_type": "code",
   "execution_count": 16,
   "metadata": {},
   "outputs": [],
   "source": [
    "def cropTxtOnly(image):\n",
    "    img = image[30:-450,20:-20] # Perform pre-cropping\n",
    "\n",
    "    gray = cv2.cvtColor(img, cv2.COLOR_BGR2GRAY)\n",
    "    # gray = 255*(gray < 90).astype(np.uint8) # To invert the text to white\n",
    "\n",
    "    gray = 255*(gray < 200).astype(np.uint8) # To invert the text to white\n",
    "\n",
    "    gray = cv2.morphologyEx(gray, cv2.MORPH_OPEN, np.ones((2, 2), dtype=np.uint8)) # Perform noise filtering\n",
    "\n",
    "    coords = cv2.findNonZero(gray) # Find all non-zero points (text)\n",
    "    x, y, w, h = cv2.boundingRect(coords) # Find minimum spanning bounding box\n",
    "    rect = img[y:y+h, x:x+w] # Crop the image - note we do this on the original image\n",
    "\n",
    "    return rect\n"
   ]
  },
  {
   "cell_type": "code",
   "execution_count": 23,
   "metadata": {},
   "outputs": [],
   "source": [
    "\n",
    "def preprocessing(dataSrc, target):\n",
    "    \n",
    "    files=os.listdir(\"our dataset/\"+dataSrc)\n",
    "\n",
    "    if not os.path.exists(target):\n",
    "          os.makedirs(target)\n",
    "      \n",
    "    for i in os.listdir(target):\n",
    "          os.remove(target+i)\n",
    "          \n",
    "    for file in files:\n",
    "        foldername=file.split('.')[0]\n",
    "        \n",
    "        # load image\n",
    "        img = cv2.imread(\"our dataset/\"+dataSrc+ file )\n",
    "\n",
    "        #crop the text only from the image\n",
    "        cropped_img=cropTxtOnly(img)\n",
    "        \n",
    "        # convert to gray\n",
    "        gray = cv2.cvtColor(cropped_img, cv2.COLOR_BGR2GRAY)\n",
    "            \n",
    "        # threshold the grayscale image\n",
    "        thresh = cv2.threshold(gray, 0, 255, cv2.THRESH_BINARY_INV + cv2.THRESH_OTSU)[1]\n",
    "        # use morphology erode to blur horizontally\n",
    "        kernel = cv2.getStructuringElement(cv2.MORPH_RECT, (200, 3))\n",
    "        morph = cv2.morphologyEx(thresh, cv2.MORPH_DILATE, kernel)\n",
    "        # use morphology open to remove thin lines from dotted lines\n",
    "        kernel = cv2.getStructuringElement(cv2.MORPH_RECT, (3, 17))\n",
    "        morph = cv2.morphologyEx(morph, cv2.MORPH_OPEN, kernel)\n",
    "        # find contours\n",
    "        cntrs = cv2.findContours(morph, cv2.RETR_EXTERNAL, cv2.CHAIN_APPROX_SIMPLE)\n",
    "        cntrs = cntrs[0] if len(cntrs) == 2 else cntrs[1]\n",
    "        # write result to disk\n",
    "        cv2.imwrite(target+foldername+\".jpg\", thresh)"
   ]
  },
  {
   "cell_type": "markdown",
   "metadata": {},
   "source": [
    "# Preprocessing data"
   ]
  },
  {
   "cell_type": "code",
   "execution_count": 7,
   "metadata": {},
   "outputs": [],
   "source": [
    "dividing_data() #80% train and 20% test"
   ]
  },
  {
   "cell_type": "code",
   "execution_count": 24,
   "metadata": {},
   "outputs": [],
   "source": [
    "preprocessing(dataSrc=\"train/\",target=\"Training_data/\")\n"
   ]
  },
  {
   "cell_type": "code",
   "execution_count": null,
   "metadata": {},
   "outputs": [],
   "source": [
    "preprocessing(dataSrc=\"test/\",target=\"Test_data/\")"
   ]
  }
 ],
 "metadata": {
  "interpreter": {
   "hash": "a2ab3825ac7005fb7b26f112e9c99ae62f464c629e30b0d534c3b931b6cbc3ff"
  },
  "kernelspec": {
   "display_name": "Python 3.8.8 ('base')",
   "language": "python",
   "name": "python3"
  },
  "language_info": {
   "codemirror_mode": {
    "name": "ipython",
    "version": 3
   },
   "file_extension": ".py",
   "mimetype": "text/x-python",
   "name": "python",
   "nbconvert_exporter": "python",
   "pygments_lexer": "ipython3",
   "version": "3.8.8"
  },
  "orig_nbformat": 4
 },
 "nbformat": 4,
 "nbformat_minor": 2
}
