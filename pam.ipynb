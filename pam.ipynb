{
 "cells": [
  {
   "cell_type": "code",
   "execution_count": 16,
   "metadata": {},
   "outputs": [],
   "source": [
    "import cv2\n",
    "from skimage import io\n",
    "import numpy as np\n",
    "import matplotlib.pyplot as plt\n",
    "import math"
   ]
  },
  {
   "cell_type": "code",
   "execution_count": 17,
   "metadata": {},
   "outputs": [],
   "source": [
    "img = io.imread('F1-6.jpg')\n",
    "#convert img to grey\n",
    "img_grey = cv2.cvtColor(img,cv2.COLOR_BGR2GRAY)\n",
    "#set a thresh\n",
    "thresh = 150\n",
    "#get threshold image\n",
    "ret,thresh_img = cv2.threshold(img_grey, thresh, 255, cv2.THRESH_BINARY)"
   ]
  },
  {
   "cell_type": "code",
   "execution_count": 18,
   "metadata": {},
   "outputs": [],
   "source": [
    "# this function takes the threshold images and preduce the approximated shapes for them\n",
    "def PolyApproxMethod(image, approx_factor):\n",
    "    # Empty array for the approximated images\n",
    "    approximated_images = []\n",
    "    # Get the contours for the whole image\n",
    "    contours, hierarchy = cv2.findContours(image, cv2.RETR_TREE, cv2.CHAIN_APPROX_SIMPLE)\n",
    "    # loop over each contour to calculate the approximated shape\n",
    "    for contour in contours:\n",
    "        percentage = approx_factor * cv2.arcLength(contour, True)\n",
    "        approximated_shape = cv2.approxPolyDP(contour, percentage, False)\n",
    "        approximated_shape.shape = (len(approximated_shape), 2)\n",
    "        approximated_images.append(approximated_shape)\n",
    "    return approximated_images\n"
   ]
  },
  {
   "cell_type": "code",
   "execution_count": 19,
   "metadata": {},
   "outputs": [],
   "source": [
    "# angles are rad and they can be negative\n",
    "def cold_ang_mag(x1,y1,x2,y2):\n",
    "    r = abs( np.sqrt( np.power(y2-y1,2) + np.power(x2-x1,2) ) )\n",
    "    if(x2-x1 == 0):\n",
    "        theta = (y2-y1)/(abs(y2-y1))*np.pi/2\n",
    "    elif(x2-x1 <0):\n",
    "        theta = (math.atan((y2-y1)/(x2-x1)) + np.pi)\n",
    "    else:\n",
    "        theta = math.atan((y2-y1)/(x2-x1)) \n",
    "    if(theta < 0):\n",
    "        theta = theta + 2*np.pi \n",
    "    if(theta*180/np.pi  > 180.0):\n",
    "        theta = theta -2*np.pi\n",
    "    #theta = theta*180/np.pi            #to see the decimal angle\n",
    "    return r,theta\n",
    "    \n",
    "def distribution(arr): # arr: the array containing dominant points\n",
    "    distrib =[]\n",
    "    for shape in arr:\n",
    "        for i in range(len(shape)-1):\n",
    "            distrib.append(list(cold_ang_mag(shape[i][0],shape[i][1],shape[i+1][0],shape[i+1][1])))\n",
    "    return np.asarray(distrib)      # array of the r and theta for the lines (size less by one to number of points)\n",
    "\n",
    "def convertPolarToSpatial(polarCoordArr):\n",
    "    spatialCoord = [[i[0] * math.cos(i[1]), i[0] * math.sin(i[1])] for i in polarCoordArr]\n",
    "    return np.asarray(spatialCoord)\n",
    "\n",
    "def calculateFeatureVector(distribution, numOfRhos = 7, numOfAngels = 12):\n",
    "    # histogram of the feature vector\n",
    "    hist = np.zeros((numOfRhos, numOfAngels), dtype=int)\n",
    "    # angle bin size\n",
    "    angle_bin_size = 360 / numOfAngels\n",
    "    # min value of the rho\n",
    "    r_inner = 5\n",
    "    # max value of the rho\n",
    "    r_outter = 35\n",
    "    # get the logarithmic rhos\n",
    "    rhos = np.log10(distribution[:, 0])\n",
    "    # get the thetas\n",
    "    thetas = np.asarray(distribution[:, 1])\n",
    "    # generate the logarithmic quantization levels\n",
    "    rho_levels = np.log10(np.linspace(r_inner, r_outter, numOfRhos))\n",
    "    # quantized values\n",
    "    quantized_values = np.zeros(rhos.shape, dtype = int)\n",
    "    for i in range(numOfRhos):\n",
    "        quantized_values += (rhos < rho_levels[i])\n",
    "    for i, r_bin in enumerate(quantized_values):\n",
    "        theta_bin = int(thetas[i] // angle_bin_size) % numOfAngels\n",
    "        hist[r_bin - 1, theta_bin] += 1\n",
    "    normalized_hist = hist / hist.sum()\n",
    "    feature_vector = normalized_hist.flatten()\n",
    "    return feature_vector\n"
   ]
  },
  {
   "cell_type": "code",
   "execution_count": 21,
   "metadata": {},
   "outputs": [
    {
     "name": "stdout",
     "output_type": "stream",
     "text": [
      "[0.02170767 0.         0.         0.01447178 0.07091172 0.\n",
      " 0.         0.07670043 0.24746744 0.         0.         0.18813314\n",
      " 0.22575977 0.         0.         0.15484805]\n"
     ]
    },
    {
     "data": {
      "image/png": "[encoded data removed]",
      "text/plain": [
       "<Figure size 432x288 with 1 Axes>"
      ]
     },
     "metadata": {
      "needs_background": "light"
     },
     "output_type": "display_data"
    },
    {
     "data": {
      "image/png": "[encoded data removed]",
      "text/plain": [
       "<Figure size 432x288 with 1 Axes>"
      ]
     },
     "metadata": {
      "needs_background": "light"
     },
     "output_type": "display_data"
    }
   ],
   "source": [
    "approx_image = PolyApproxMethod(thresh_img, approx_factor = 0.01)\n",
    "cold_dist = distribution(approx_image)\n",
    "feature_vector = calculateFeatureVector(cold_dist, 4, 4)\n",
    "cold_dist = convertPolarToSpatial(cold_dist)\n",
    "# print(cold_dist)\n",
    "# print(type(cold_dist))\n",
    "print(feature_vector)\n",
    "plt.plot(cold_dist[:, 0], cold_dist[:, 1], 'ro')\n",
    "plt.show()\n",
    "io.imshow(thresh_img)\n",
    "io.show()\n",
    "# print(cold_dist)"
   ]
  },
  {
   "cell_type": "code",
   "execution_count": null,
   "metadata": {},
   "outputs": [],
   "source": []
  }
 ],
 "metadata": {
  "interpreter": {
   "hash": "2ce1aa5045122ce61d81150741fc545f0705456a83bb0ce116eee68d33a445e8"
  },
  "kernelspec": {
   "display_name": "Python 3.10.2 64-bit",
   "language": "python",
   "name": "python3"
  },
  "language_info": {
   "codemirror_mode": {
    "name": "ipython",
    "version": 3
   },
   "file_extension": ".py",
   "mimetype": "text/x-python",
   "name": "python",
   "nbconvert_exporter": "python",
   "pygments_lexer": "ipython3",
   "version": "3.10.2"
  },
  "orig_nbformat": 4
 },
 "nbformat": 4,
 "nbformat_minor": 2
}
