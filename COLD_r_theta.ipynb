{
 "cells": [
  {
   "cell_type": "code",
   "execution_count": 1,
   "metadata": {},
   "outputs": [],
   "source": [
    "## imports\n",
    "import pandas as pd\n",
    "import numpy as np\n",
    "from scipy.optimize import minimize ## if not installed, use conda install -c anaconda scipy\n",
    "import matplotlib.pyplot as plt\n",
    "import scipy.io \n",
    "import math"
   ]
  },
  {
   "cell_type": "code",
   "execution_count": 2,
   "metadata": {},
   "outputs": [],
   "source": [
    "# angles are rad and they can be negative\n",
    "def cold_ang_mag(x1,y1,x2,y2):\n",
    "    r = abs( np.sqrt( np.power(y2-y1,2) + np.power(x2-x1,2) ) )  \n",
    "    if(x2-x1 == 0):\n",
    "        theta = (y2-y1)/(abs(y2-y1))*np.pi/2 \n",
    "    elif(x2-x1 <0):\n",
    "        theta = (math.atan((y2-y1)/(x2-x1)) + np.pi) \n",
    "    else:\n",
    "        theta = math.atan((y2-y1)/(x2-x1)) \n",
    "    if(theta < 0):\n",
    "        theta = theta + 2*np.pi \n",
    "    if(theta*180/np.pi  > 180.0):\n",
    "        theta = theta -2*np.pi\n",
    "    #theta = theta*180/np.pi            #to see the decimal angle\n",
    "    return r,theta"
   ]
  },
  {
   "cell_type": "code",
   "execution_count": 3,
   "metadata": {},
   "outputs": [],
   "source": [
    "def distibution(arr): # arr: the array containing dominant points\n",
    "    \n",
    "    distrib =[]          \n",
    "    for i in range(len(arr)-1):\n",
    "        distrib.append(cold_ang_mag(arr[i][0],arr[i][1],arr[i+1][0],arr[i+1][1]))\n",
    "    return distrib      # array of the r and theta for the lines (size less by one to number of points)\n",
    "    "
   ]
  },
  {
   "cell_type": "code",
   "execution_count": 4,
   "metadata": {},
   "outputs": [
    {
     "name": "stdout",
     "output_type": "stream",
     "text": [
      "[(3.0, 3.141592653589793), (6.082762530298219, -1.7359450042095235), (4.47213595499958, -0.46364760900080615)]\n"
     ]
    }
   ],
   "source": [
    "# test\n",
    "arr = [[1,2],[-2,2],[-3,-4],[1,-6]]\n",
    "print(distibution(arr))"
   ]
  },
  {
   "cell_type": "code",
   "execution_count": null,
   "metadata": {},
   "outputs": [],
   "source": []
  }
 ],
 "metadata": {
  "interpreter": {
   "hash": "5ae6c64ad5aec572ba99f032ec8caa0ee73ab1d753c5fc8d884138c49193e141"
  },
  "kernelspec": {
   "display_name": "Python 3.8.8 ('base')",
   "language": "python",
   "name": "python3"
  },
  "language_info": {
   "codemirror_mode": {
    "name": "ipython",
    "version": 3
   },
   "file_extension": ".py",
   "mimetype": "text/x-python",
   "name": "python",
   "nbconvert_exporter": "python",
   "pygments_lexer": "ipython3",
   "version": "3.8.8"
  },
  "orig_nbformat": 4
 },
 "nbformat": 4,
 "nbformat_minor": 2
}
